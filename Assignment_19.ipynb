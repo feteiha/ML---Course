{
  "nbformat": 4,
  "nbformat_minor": 0,
  "metadata": {
    "colab": {
      "name": "Assignment 19.ipynb",
      "provenance": [],
      "authorship_tag": "ABX9TyNptAMilCVezHhhHeqLHzYZ",
      "include_colab_link": true
    },
    "kernelspec": {
      "name": "python3",
      "display_name": "Python 3"
    },
    "accelerator": "GPU"
  },
  "cells": [
    {
      "cell_type": "markdown",
      "metadata": {
        "id": "view-in-github",
        "colab_type": "text"
      },
      "source": [
        "<a href=\"https://colab.research.google.com/github/feteiha/ML-Course/blob/master/Assignment_19.ipynb\" target=\"_parent\"><img src=\"https://colab.research.google.com/assets/colab-badge.svg\" alt=\"Open In Colab\"/></a>"
      ]
    },
    {
      "cell_type": "code",
      "metadata": {
        "id": "QlSrQrSLXQYF",
        "colab_type": "code",
        "colab": {}
      },
      "source": [
        "%tensorflow_version 2.x"
      ],
      "execution_count": 1,
      "outputs": []
    },
    {
      "cell_type": "code",
      "metadata": {
        "id": "TRHY4dk7XZ6l",
        "colab_type": "code",
        "colab": {}
      },
      "source": [
        "from tensorflow.keras.datasets import fashion_mnist\n",
        "from tensorflow.keras.models import Sequential\n",
        "from tensorflow.keras.layers import Dense, Dropout, Flatten\n",
        "from tensorflow.keras.layers import Conv2D, MaxPooling2D\n",
        "from tensorflow.keras import backend as K\n",
        "from tensorflow.keras.optimizers import Adam\n",
        "from matplotlib import pyplot as plt\n",
        "import numpy as np\n",
        "import random"
      ],
      "execution_count": 2,
      "outputs": []
    },
    {
      "cell_type": "code",
      "metadata": {
        "id": "HXSY66VzXl48",
        "colab_type": "code",
        "colab": {
          "base_uri": "https://localhost:8080/",
          "height": 153
        },
        "outputId": "cc6cb918-24bf-406c-8947-b129e895637b"
      },
      "source": [
        "(x_train, y_train), (x_test, y_test) = fashion_mnist.load_data()\n",
        "# Save original test images for display purposes\n",
        "orig_test = x_test"
      ],
      "execution_count": 3,
      "outputs": [
        {
          "output_type": "stream",
          "text": [
            "Downloading data from https://storage.googleapis.com/tensorflow/tf-keras-datasets/train-labels-idx1-ubyte.gz\n",
            "32768/29515 [=================================] - 0s 0us/step\n",
            "Downloading data from https://storage.googleapis.com/tensorflow/tf-keras-datasets/train-images-idx3-ubyte.gz\n",
            "26427392/26421880 [==============================] - 0s 0us/step\n",
            "Downloading data from https://storage.googleapis.com/tensorflow/tf-keras-datasets/t10k-labels-idx1-ubyte.gz\n",
            "8192/5148 [===============================================] - 0s 0us/step\n",
            "Downloading data from https://storage.googleapis.com/tensorflow/tf-keras-datasets/t10k-images-idx3-ubyte.gz\n",
            "4423680/4422102 [==============================] - 0s 0us/step\n"
          ],
          "name": "stdout"
        }
      ]
    },
    {
      "cell_type": "code",
      "metadata": {
        "id": "TIzkHMq6Y0in",
        "colab_type": "code",
        "colab": {
          "base_uri": "https://localhost:8080/",
          "height": 34
        },
        "outputId": "ef17e075-946a-4362-bd11-7992f3ec9dae"
      },
      "source": [
        "x_train.shape"
      ],
      "execution_count": 4,
      "outputs": [
        {
          "output_type": "execute_result",
          "data": {
            "text/plain": [
              "(60000, 28, 28)"
            ]
          },
          "metadata": {
            "tags": []
          },
          "execution_count": 4
        }
      ]
    },
    {
      "cell_type": "code",
      "metadata": {
        "id": "BZ8z-Af-Y3O-",
        "colab_type": "code",
        "colab": {
          "base_uri": "https://localhost:8080/",
          "height": 34
        },
        "outputId": "3e29372d-b8f7-4f25-d532-1d2f59ddb127"
      },
      "source": [
        "x_test.shape"
      ],
      "execution_count": 5,
      "outputs": [
        {
          "output_type": "execute_result",
          "data": {
            "text/plain": [
              "(10000, 28, 28)"
            ]
          },
          "metadata": {
            "tags": []
          },
          "execution_count": 5
        }
      ]
    },
    {
      "cell_type": "code",
      "metadata": {
        "id": "6qgarzn0XweD",
        "colab_type": "code",
        "colab": {
          "base_uri": "https://localhost:8080/",
          "height": 281
        },
        "outputId": "6fa9fe2d-5c28-478f-c0d2-cb7c669c244e"
      },
      "source": [
        "index = random.randrange(10000)\n",
        "plt.imshow(orig_test[index], cmap= 'gray')\n",
        "plt.title('Label: %d' % y_test[index])\n",
        "plt.show()"
      ],
      "execution_count": 6,
      "outputs": [
        {
          "output_type": "display_data",
          "data": {
            "image/png": "[encoded data removed]",
            "text/plain": [
              "<Figure size 432x288 with 1 Axes>"
            ]
          },
          "metadata": {
            "tags": [],
            "needs_background": "light"
          }
        }
      ]
    },
    {
      "cell_type": "code",
      "metadata": {
        "id": "QqJBSsq-YxdS",
        "colab_type": "code",
        "colab": {
          "base_uri": "https://localhost:8080/",
          "height": 281
        },
        "outputId": "cbba2ddc-a444-471b-ec1e-7029d8f569d6"
      },
      "source": [
        "index = random.randrange(60000)\n",
        "plt.imshow(x_train[index], cmap= 'gray')\n",
        "plt.title('Label: %d' % y_train[index])\n",
        "plt.show()"
      ],
      "execution_count": 7,
      "outputs": [
        {
          "output_type": "display_data",
          "data": {
            "image/png": "[encoded data removed]",
            "text/plain": [
              "<Figure size 432x288 with 1 Axes>"
            ]
          },
          "metadata": {
            "tags": [],
            "needs_background": "light"
          }
        }
      ]
    },
    {
      "cell_type": "code",
      "metadata": {
        "id": "Tk1_vwyOaHuN",
        "colab_type": "code",
        "colab": {}
      },
      "source": [
        "def name(x):\n",
        "  if x == 0:\n",
        "    return \"T-shirt/Top\"\n",
        "  elif x == 1:\n",
        "    return \"Trouser\"\n",
        "  elif x == 2:\n",
        "    return \"Pullover\"\n",
        "  elif x == 3:\n",
        "    return \"Dress\"\n",
        "  elif x == 4:\n",
        "    return \"Coat\"\n",
        "  elif x == 5:\n",
        "    return \"Sandal\"\n",
        "  elif x == 6:\n",
        "    return \"Shirt\"\n",
        "  elif x == 7:\n",
        "    return \"Sneaker\"\n",
        "  elif x == 8:\n",
        "    return \"Bag\"\n",
        "  else:\n",
        "    return \"Ankle boot\""
      ],
      "execution_count": 8,
      "outputs": []
    },
    {
      "cell_type": "markdown",
      "metadata": {
        "id": "XIm0LI5aZJjW",
        "colab_type": "text"
      },
      "source": [
        "Hyperparameters"
      ]
    },
    {
      "cell_type": "code",
      "metadata": {
        "id": "zSsulMXJYszX",
        "colab_type": "code",
        "colab": {}
      },
      "source": [
        "# Input image dimensions\n",
        "img_rows, img_cols = 28, 28\n",
        "\n",
        "# The number of training samples per batch. 128 is a reasonable number.\n",
        "batch_size = 128\n",
        "\n",
        "# Our data set contains 10 types, so the number of classes is 10\n",
        "num_classes = 10\n",
        "\n",
        "# epochs is the number of times the model is trained with the data set, more can be better, up to a point\n",
        "epochs = 40\n",
        "\n",
        "# dropout is a common regularization hyperperameter. It helps to avoid overfitting or memorizing the input.\n",
        "dropout = 0.5"
      ],
      "execution_count": 29,
      "outputs": []
    },
    {
      "cell_type": "markdown",
      "metadata": {
        "id": "d29DBj7vZRsX",
        "colab_type": "text"
      },
      "source": [
        "Preparing Data"
      ]
    },
    {
      "cell_type": "code",
      "metadata": {
        "id": "nV1EjG24ZIxI",
        "colab_type": "code",
        "colab": {
          "base_uri": "https://localhost:8080/",
          "height": 51
        },
        "outputId": "7a44f9d4-119e-41ce-d607-281ed8f1e583"
      },
      "source": [
        "if K.image_data_format() == 'channels_first':\n",
        "    x_train = x_train.reshape(x_train.shape[0], 1, img_rows, img_cols)\n",
        "    x_test = x_test.reshape(x_test.shape[0], 1, img_rows, img_cols)\n",
        "    input_shape = (1, img_rows, img_cols)\n",
        "else:\n",
        "    x_train = x_train.reshape(x_train.shape[0], img_rows, img_cols, 1)\n",
        "    x_test = x_test.reshape(x_test.shape[0], img_rows, img_cols, 1)\n",
        "    input_shape = (img_rows, img_cols, 1)\n",
        "    \n",
        "x_train, x_test = x_train / 255.0, x_test / 255.0\n",
        "\n",
        "print(x_train.shape[0], 'train samples')\n",
        "print(x_test.shape[0], 'test samples')"
      ],
      "execution_count": 15,
      "outputs": [
        {
          "output_type": "stream",
          "text": [
            "60000 train samples\n",
            "10000 test samples\n"
          ],
          "name": "stdout"
        }
      ]
    },
    {
      "cell_type": "code",
      "metadata": {
        "id": "hL4b4m8YZfds",
        "colab_type": "code",
        "colab": {
          "base_uri": "https://localhost:8080/",
          "height": 425
        },
        "outputId": "1ec8d971-8786-45f0-99b8-279f031d44bb"
      },
      "source": [
        "model = Sequential()\n",
        "model.add(Conv2D(32, kernel_size=(3, 3), activation='relu', input_shape=input_shape))\n",
        "model.add(Conv2D(64, (3, 3), activation='relu'))\n",
        "model.add(MaxPooling2D(pool_size=(2, 2)))\n",
        "model.add(Dropout(dropout/2))\n",
        "model.add(Flatten())\n",
        "model.add(Dense(128, activation='relu', kernel_initializer='he_uniform'))\n",
        "model.add(Dropout(dropout))\n",
        "model.add(Dense(num_classes, activation='softmax'))\n",
        "model.summary()"
      ],
      "execution_count": 30,
      "outputs": [
        {
          "output_type": "stream",
          "text": [
            "Model: \"sequential_5\"\n",
            "_________________________________________________________________\n",
            "Layer (type)                 Output Shape              Param #   \n",
            "=================================================================\n",
            "conv2d_10 (Conv2D)           (None, 26, 26, 32)        320       \n",
            "_________________________________________________________________\n",
            "conv2d_11 (Conv2D)           (None, 24, 24, 64)        18496     \n",
            "_________________________________________________________________\n",
            "max_pooling2d_5 (MaxPooling2 (None, 12, 12, 64)        0         \n",
            "_________________________________________________________________\n",
            "dropout_10 (Dropout)         (None, 12, 12, 64)        0         \n",
            "_________________________________________________________________\n",
            "flatten_5 (Flatten)          (None, 9216)              0         \n",
            "_________________________________________________________________\n",
            "dense_10 (Dense)             (None, 128)               1179776   \n",
            "_________________________________________________________________\n",
            "dropout_11 (Dropout)         (None, 128)               0         \n",
            "_________________________________________________________________\n",
            "dense_11 (Dense)             (None, 10)                1290      \n",
            "=================================================================\n",
            "Total params: 1,199,882\n",
            "Trainable params: 1,199,882\n",
            "Non-trainable params: 0\n",
            "_________________________________________________________________\n"
          ],
          "name": "stdout"
        }
      ]
    },
    {
      "cell_type": "code",
      "metadata": {
        "id": "9GUIEep6hFUh",
        "colab_type": "code",
        "colab": {
          "base_uri": "https://localhost:8080/",
          "height": 323
        },
        "outputId": "17a6194f-2497-4b8e-ace7-683070006c6b"
      },
      "source": [
        "model = Sequential()\n",
        "model.add(Conv2D(32, (3, 3), activation='relu', kernel_initializer='he_uniform', input_shape=(28, 28, 1)))\n",
        "model.add(MaxPooling2D((2, 2)))\n",
        "model.add(Flatten())\n",
        "model.add(Dense(100, activation='relu', kernel_initializer='he_uniform'))\n",
        "model.add(Dense(10, activation='softmax'))\n",
        "model.summary()"
      ],
      "execution_count": 40,
      "outputs": [
        {
          "output_type": "stream",
          "text": [
            "Model: \"sequential_7\"\n",
            "_________________________________________________________________\n",
            "Layer (type)                 Output Shape              Param #   \n",
            "=================================================================\n",
            "conv2d_13 (Conv2D)           (None, 26, 26, 32)        320       \n",
            "_________________________________________________________________\n",
            "max_pooling2d_7 (MaxPooling2 (None, 13, 13, 32)        0         \n",
            "_________________________________________________________________\n",
            "flatten_7 (Flatten)          (None, 5408)              0         \n",
            "_________________________________________________________________\n",
            "dense_14 (Dense)             (None, 100)               540900    \n",
            "_________________________________________________________________\n",
            "dense_15 (Dense)             (None, 10)                1010      \n",
            "=================================================================\n",
            "Total params: 542,230\n",
            "Trainable params: 542,230\n",
            "Non-trainable params: 0\n",
            "_________________________________________________________________\n"
          ],
          "name": "stdout"
        }
      ]
    },
    {
      "cell_type": "code",
      "metadata": {
        "id": "0qC_C6_KZvnr",
        "colab_type": "code",
        "colab": {
          "base_uri": "https://localhost:8080/",
          "height": 1000
        },
        "outputId": "f22cce61-e6f6-4eb3-c37e-a9e7c3bf83cd"
      },
      "source": [
        "model.compile(loss='sparse_categorical_crossentropy', optimizer=Adam(), metrics=['accuracy'])\n",
        "\n",
        "# Train model for a given number of epochs\n",
        "history = model.fit(x_train, y_train, batch_size=batch_size, epochs=epochs, verbose=1, validation_data=(x_test, y_test))\n",
        "\n",
        "# Evaluate model against test data\n",
        "score = model.evaluate(x_test, y_test, verbose=0)\n",
        "print('Test loss:', score[0])\n",
        "print('Test accuracy:', score[1])\n",
        "\n",
        "# summarize history for accuracy\n",
        "plt.plot(history.history['accuracy'])\n",
        "plt.plot(history.history['val_accuracy'])\n",
        "plt.title('Model accuracy')\n",
        "plt.ylabel('Accuracy')\n",
        "plt.xlabel('Epoch')\n",
        "plt.legend(['Train', 'Test'], loc='upper left')\n",
        "plt.show()"
      ],
      "execution_count": 41,
      "outputs": [
        {
          "output_type": "stream",
          "text": [
            "Epoch 1/40\n",
            "469/469 [==============================] - 2s 5ms/step - loss: 1.0177 - accuracy: 0.6792 - val_loss: 0.6730 - val_accuracy: 0.7535\n",
            "Epoch 2/40\n",
            "469/469 [==============================] - 2s 5ms/step - loss: 0.5968 - accuracy: 0.7814 - val_loss: 0.5831 - val_accuracy: 0.7854\n",
            "Epoch 3/40\n",
            "469/469 [==============================] - 2s 4ms/step - loss: 0.5218 - accuracy: 0.8123 - val_loss: 0.5171 - val_accuracy: 0.8132\n",
            "Epoch 4/40\n",
            "469/469 [==============================] - 2s 4ms/step - loss: 0.4746 - accuracy: 0.8327 - val_loss: 0.4793 - val_accuracy: 0.8274\n",
            "Epoch 5/40\n",
            "469/469 [==============================] - 2s 4ms/step - loss: 0.4421 - accuracy: 0.8435 - val_loss: 0.4508 - val_accuracy: 0.8369\n",
            "Epoch 6/40\n",
            "469/469 [==============================] - 2s 5ms/step - loss: 0.4194 - accuracy: 0.8514 - val_loss: 0.4287 - val_accuracy: 0.8484\n",
            "Epoch 7/40\n",
            "469/469 [==============================] - 2s 5ms/step - loss: 0.4006 - accuracy: 0.8600 - val_loss: 0.4341 - val_accuracy: 0.8440\n",
            "Epoch 8/40\n",
            "469/469 [==============================] - 2s 5ms/step - loss: 0.3872 - accuracy: 0.8639 - val_loss: 0.4180 - val_accuracy: 0.8500\n",
            "Epoch 9/40\n",
            "469/469 [==============================] - 2s 5ms/step - loss: 0.3756 - accuracy: 0.8673 - val_loss: 0.4290 - val_accuracy: 0.8429\n",
            "Epoch 10/40\n",
            "469/469 [==============================] - 2s 4ms/step - loss: 0.3636 - accuracy: 0.8726 - val_loss: 0.3824 - val_accuracy: 0.8656\n",
            "Epoch 11/40\n",
            "469/469 [==============================] - 2s 5ms/step - loss: 0.3549 - accuracy: 0.8739 - val_loss: 0.3815 - val_accuracy: 0.8633\n",
            "Epoch 12/40\n",
            "469/469 [==============================] - 2s 4ms/step - loss: 0.3464 - accuracy: 0.8763 - val_loss: 0.3809 - val_accuracy: 0.8650\n",
            "Epoch 13/40\n",
            "469/469 [==============================] - 2s 4ms/step - loss: 0.3381 - accuracy: 0.8791 - val_loss: 0.3598 - val_accuracy: 0.8739\n",
            "Epoch 14/40\n",
            "469/469 [==============================] - 2s 5ms/step - loss: 0.3318 - accuracy: 0.8815 - val_loss: 0.3546 - val_accuracy: 0.8755\n",
            "Epoch 15/40\n",
            "469/469 [==============================] - 2s 4ms/step - loss: 0.3237 - accuracy: 0.8851 - val_loss: 0.3549 - val_accuracy: 0.8756\n",
            "Epoch 16/40\n",
            "469/469 [==============================] - 2s 5ms/step - loss: 0.3183 - accuracy: 0.8858 - val_loss: 0.3632 - val_accuracy: 0.8690\n",
            "Epoch 17/40\n",
            "469/469 [==============================] - 2s 4ms/step - loss: 0.3131 - accuracy: 0.8875 - val_loss: 0.3391 - val_accuracy: 0.8796\n",
            "Epoch 18/40\n",
            "469/469 [==============================] - 2s 5ms/step - loss: 0.3062 - accuracy: 0.8895 - val_loss: 0.3415 - val_accuracy: 0.8771\n",
            "Epoch 19/40\n",
            "469/469 [==============================] - 2s 4ms/step - loss: 0.3005 - accuracy: 0.8923 - val_loss: 0.3337 - val_accuracy: 0.8810\n",
            "Epoch 20/40\n",
            "469/469 [==============================] - 2s 4ms/step - loss: 0.2946 - accuracy: 0.8943 - val_loss: 0.3305 - val_accuracy: 0.8840\n",
            "Epoch 21/40\n",
            "469/469 [==============================] - 2s 4ms/step - loss: 0.2912 - accuracy: 0.8950 - val_loss: 0.3235 - val_accuracy: 0.8856\n",
            "Epoch 22/40\n",
            "469/469 [==============================] - 2s 5ms/step - loss: 0.2865 - accuracy: 0.8977 - val_loss: 0.3256 - val_accuracy: 0.8847\n",
            "Epoch 23/40\n",
            "469/469 [==============================] - 2s 5ms/step - loss: 0.2816 - accuracy: 0.8988 - val_loss: 0.3194 - val_accuracy: 0.8865\n",
            "Epoch 24/40\n",
            "469/469 [==============================] - 2s 4ms/step - loss: 0.2767 - accuracy: 0.8999 - val_loss: 0.3173 - val_accuracy: 0.8882\n",
            "Epoch 25/40\n",
            "469/469 [==============================] - 2s 5ms/step - loss: 0.2728 - accuracy: 0.9011 - val_loss: 0.3178 - val_accuracy: 0.8859\n",
            "Epoch 26/40\n",
            "469/469 [==============================] - 2s 4ms/step - loss: 0.2693 - accuracy: 0.9021 - val_loss: 0.3163 - val_accuracy: 0.8866\n",
            "Epoch 27/40\n",
            "469/469 [==============================] - 2s 4ms/step - loss: 0.2660 - accuracy: 0.9039 - val_loss: 0.3103 - val_accuracy: 0.8903\n",
            "Epoch 28/40\n",
            "469/469 [==============================] - 2s 5ms/step - loss: 0.2613 - accuracy: 0.9054 - val_loss: 0.3064 - val_accuracy: 0.8902\n",
            "Epoch 29/40\n",
            "469/469 [==============================] - 2s 5ms/step - loss: 0.2587 - accuracy: 0.9064 - val_loss: 0.3176 - val_accuracy: 0.8893\n",
            "Epoch 30/40\n",
            "469/469 [==============================] - 2s 5ms/step - loss: 0.2551 - accuracy: 0.9084 - val_loss: 0.3008 - val_accuracy: 0.8928\n",
            "Epoch 31/40\n",
            "469/469 [==============================] - 2s 5ms/step - loss: 0.2512 - accuracy: 0.9086 - val_loss: 0.3102 - val_accuracy: 0.8887\n",
            "Epoch 32/40\n",
            "469/469 [==============================] - 2s 5ms/step - loss: 0.2471 - accuracy: 0.9100 - val_loss: 0.3178 - val_accuracy: 0.8865\n",
            "Epoch 33/40\n",
            "469/469 [==============================] - 2s 5ms/step - loss: 0.2449 - accuracy: 0.9114 - val_loss: 0.3106 - val_accuracy: 0.8872\n",
            "Epoch 34/40\n",
            "469/469 [==============================] - 2s 5ms/step - loss: 0.2422 - accuracy: 0.9121 - val_loss: 0.2964 - val_accuracy: 0.8925\n",
            "Epoch 35/40\n",
            "469/469 [==============================] - 2s 4ms/step - loss: 0.2377 - accuracy: 0.9140 - val_loss: 0.2932 - val_accuracy: 0.8933\n",
            "Epoch 36/40\n",
            "469/469 [==============================] - 2s 5ms/step - loss: 0.2360 - accuracy: 0.9147 - val_loss: 0.2950 - val_accuracy: 0.8952\n",
            "Epoch 37/40\n",
            "469/469 [==============================] - 2s 5ms/step - loss: 0.2336 - accuracy: 0.9162 - val_loss: 0.2896 - val_accuracy: 0.8965\n",
            "Epoch 38/40\n",
            "469/469 [==============================] - 2s 5ms/step - loss: 0.2299 - accuracy: 0.9168 - val_loss: 0.2924 - val_accuracy: 0.8963\n",
            "Epoch 39/40\n",
            "469/469 [==============================] - 2s 4ms/step - loss: 0.2272 - accuracy: 0.9166 - val_loss: 0.2908 - val_accuracy: 0.8958\n",
            "Epoch 40/40\n",
            "469/469 [==============================] - 2s 4ms/step - loss: 0.2242 - accuracy: 0.9175 - val_loss: 0.2912 - val_accuracy: 0.8960\n",
            "Test loss: 0.29124096035957336\n",
            "Test accuracy: 0.8960000276565552\n"
          ],
          "name": "stdout"
        },
        {
          "output_type": "display_data",
          "data": {
            "image/png": "[encoded data removed]",
            "text/plain": [
              "<Figure size 432x288 with 1 Axes>"
            ]
          },
          "metadata": {
            "tags": [],
            "needs_background": "light"
          }
        }
      ]
    },
    {
      "cell_type": "code",
      "metadata": {
        "id": "VhJEhW01Z7DK",
        "colab_type": "code",
        "colab": {}
      },
      "source": [
        "predictions = model.predict(x_test)\n",
        "most_likely = predictions.argmax(1)"
      ],
      "execution_count": 42,
      "outputs": []
    },
    {
      "cell_type": "code",
      "metadata": {
        "id": "tUI7rSqfZ-s7",
        "colab_type": "code",
        "colab": {
          "base_uri": "https://localhost:8080/",
          "height": 281
        },
        "outputId": "10f074ef-45f5-4645-ebd7-7cecf40b3b8d"
      },
      "source": [
        "index = random.randrange(10000)\n",
        "plt.title('Prediction: %d, label: %d' % (most_likely[index], y_test[index]))\n",
        "plt.imshow(orig_test[index], cmap='gray')\n",
        "plt.show()"
      ],
      "execution_count": 43,
      "outputs": [
        {
          "output_type": "display_data",
          "data": {
            "image/png": "[encoded data removed]",
            "text/plain": [
              "<Figure size 432x288 with 1 Axes>"
            ]
          },
          "metadata": {
            "tags": [],
            "needs_background": "light"
          }
        }
      ]
    },
    {
      "cell_type": "code",
      "metadata": {
        "id": "R9xIsIXxaA78",
        "colab_type": "code",
        "colab": {
          "base_uri": "https://localhost:8080/",
          "height": 545
        },
        "outputId": "e8713934-ff9f-4d12-9d5d-8e3642dd9452"
      },
      "source": [
        "for i in range(10000):\n",
        "    index = random.randrange(10000)\n",
        "    if most_likely[index] != y_test[index]:\n",
        "        break\n",
        "\n",
        "plt.imshow(orig_test[index], cmap='gray')\n",
        "plt.title('Prediction: %d, label: %d' % (most_likely[index], y_test[index]))\n",
        "plt.show()\n",
        "\n",
        "plt.bar(range(10), predictions[index], tick_label=range(10))\n",
        "plt.title('Prediction values')\n",
        "plt.show()"
      ],
      "execution_count": 44,
      "outputs": [
        {
          "output_type": "display_data",
          "data": {
            "image/png": "[encoded data removed]",
            "text/plain": [
              "<Figure size 432x288 with 1 Axes>"
            ]
          },
          "metadata": {
            "tags": [],
            "needs_background": "light"
          }
        },
        {
          "output_type": "display_data",
          "data": {
            "image/png": "[encoded data removed]",
            "text/plain": [
              "<Figure size 432x288 with 1 Axes>"
            ]
          },
          "metadata": {
            "tags": [],
            "needs_background": "light"
          }
        }
      ]
    }
  ]
}