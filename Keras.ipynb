{
  "nbformat": 4,
  "nbformat_minor": 0,
  "metadata": {
    "colab": {
      "name": "Keras.ipynb",
      "provenance": [],
      "authorship_tag": "ABX9TyOZViPA83iEts8pIBHDmIwp",
      "include_colab_link": true
    },
    "kernelspec": {
      "name": "python3",
      "display_name": "Python 3"
    }
  },
  "cells": [
    {
      "cell_type": "markdown",
      "metadata": {
        "id": "view-in-github",
        "colab_type": "text"
      },
      "source": [
        "<a href=\"https://colab.research.google.com/github/feteiha/ML-Course/blob/master/Keras.ipynb\" target=\"_parent\"><img src=\"https://colab.research.google.com/assets/colab-badge.svg\" alt=\"Open In Colab\"/></a>"
      ]
    },
    {
      "cell_type": "code",
      "metadata": {
        "id": "CGqIAwy5dMtZ",
        "colab_type": "code",
        "colab": {}
      },
      "source": [
        "%tensorflow_version 2.x"
      ],
      "execution_count": 1,
      "outputs": []
    },
    {
      "cell_type": "code",
      "metadata": {
        "id": "U5X4EpF6dT7O",
        "colab_type": "code",
        "colab": {}
      },
      "source": [
        "from tensorflow.keras.models import Sequential\n",
        "from tensorflow.keras.layers import Dense, Activation\n",
        "from tensorflow.keras.optimizers import Adam\n",
        "from tensorflow.keras.models import model_from_json\n",
        " \n",
        "from matplotlib import pyplot as plt\n",
        " \n",
        "import numpy as np"
      ],
      "execution_count": 2,
      "outputs": []
    },
    {
      "cell_type": "code",
      "metadata": {
        "id": "r5mXucuFdXrd",
        "colab_type": "code",
        "colab": {}
      },
      "source": [
        "def function(x):\n",
        "    return 10*x**2 - 5*x - 0.5"
      ],
      "execution_count": 3,
      "outputs": []
    },
    {
      "cell_type": "code",
      "metadata": {
        "id": "E2DkzUzPdbEB",
        "colab_type": "code",
        "colab": {}
      },
      "source": [
        "x_train = np.random.rand(10000)\n",
        "y_train = function(x_train)\n",
        " \n",
        "x_test = np.linspace(0, 1, 100)\n",
        "y_test = function(x_test)"
      ],
      "execution_count": 4,
      "outputs": []
    },
    {
      "cell_type": "code",
      "metadata": {
        "id": "Xx3XA96HdeV3",
        "colab_type": "code",
        "colab": {
          "base_uri": "https://localhost:8080/",
          "height": 279
        },
        "outputId": "4d5e3bc6-345b-48a7-c67c-a7d6ae365135"
      },
      "source": [
        "plt.scatter(x_train, y_train, label='Train', color='blue')\n",
        "plt.plot(x_test, y_test, label='Test', color='red')\n",
        "plt.ylabel('y')\n",
        "plt.xlabel('x')\n",
        "plt.legend(loc='best')\n",
        "plt.show()"
      ],
      "execution_count": 5,
      "outputs": [
        {
          "output_type": "display_data",
          "data": {
            "image/png": "[encoded data removed]",
            "text/plain": [
              "<Figure size 432x288 with 1 Axes>"
            ]
          },
          "metadata": {
            "tags": [],
            "needs_background": "light"
          }
        }
      ]
    },
    {
      "cell_type": "code",
      "metadata": {
        "id": "XEDYZESOdjFd",
        "colab_type": "code",
        "colab": {}
      },
      "source": [
        "model = Sequential()\n",
        "model.add(Dense(units=200, input_dim=1))\n",
        "model.add(Activation('relu'))\n",
        "model.add(Dense(units= 20, activation= 'relu'))\n",
        "model.add(Dense (units= 1))\n",
        "# Add a dense layer with 20 units\n",
        "# Add a 'relu' activation layer\n",
        "# Add an output dense layer with 1 unit"
      ],
      "execution_count": 30,
      "outputs": []
    },
    {
      "cell_type": "code",
      "metadata": {
        "id": "REO3Mq1neCH4",
        "colab_type": "code",
        "colab": {
          "base_uri": "https://localhost:8080/",
          "height": 289
        },
        "outputId": "455b77a7-79bb-4460-f5e9-b195df3b44f9"
      },
      "source": [
        "model.summary()\n"
      ],
      "execution_count": 31,
      "outputs": [
        {
          "output_type": "stream",
          "text": [
            "Model: \"sequential_4\"\n",
            "_________________________________________________________________\n",
            "Layer (type)                 Output Shape              Param #   \n",
            "=================================================================\n",
            "dense_12 (Dense)             (None, 200)               400       \n",
            "_________________________________________________________________\n",
            "activation_4 (Activation)    (None, 200)               0         \n",
            "_________________________________________________________________\n",
            "dense_13 (Dense)             (None, 20)                4020      \n",
            "_________________________________________________________________\n",
            "dense_14 (Dense)             (None, 1)                 21        \n",
            "=================================================================\n",
            "Total params: 4,441\n",
            "Trainable params: 4,441\n",
            "Non-trainable params: 0\n",
            "_________________________________________________________________\n"
          ],
          "name": "stdout"
        }
      ]
    },
    {
      "cell_type": "code",
      "metadata": {
        "id": "CKXuiSWAeQKh",
        "colab_type": "code",
        "colab": {}
      },
      "source": [
        "model.compile(loss= 'mse' , optimizer= 'Adam')"
      ],
      "execution_count": 32,
      "outputs": []
    },
    {
      "cell_type": "code",
      "metadata": {
        "id": "ksvY_a1reby1",
        "colab_type": "code",
        "colab": {
          "base_uri": "https://localhost:8080/",
          "height": 357
        },
        "outputId": "0da0aa34-3200-403b-ce66-a7ad4541d507"
      },
      "source": [
        "history = model.fit(x_train, y_train, batch_size=50, epochs=10, verbose=1, validation_data=(x_test, y_test))\n"
      ],
      "execution_count": 33,
      "outputs": [
        {
          "output_type": "stream",
          "text": [
            "Epoch 1/10\n",
            "200/200 [==============================] - 0s 2ms/step - loss: 0.9539 - val_loss: 0.0608\n",
            "Epoch 2/10\n",
            "200/200 [==============================] - 0s 1ms/step - loss: 0.0233 - val_loss: 0.0132\n",
            "Epoch 3/10\n",
            "200/200 [==============================] - 0s 2ms/step - loss: 0.0090 - val_loss: 0.0084\n",
            "Epoch 4/10\n",
            "200/200 [==============================] - 0s 1ms/step - loss: 0.0064 - val_loss: 0.0064\n",
            "Epoch 5/10\n",
            "200/200 [==============================] - 0s 1ms/step - loss: 0.0049 - val_loss: 0.0049\n",
            "Epoch 6/10\n",
            "200/200 [==============================] - 0s 2ms/step - loss: 0.0036 - val_loss: 0.0036\n",
            "Epoch 7/10\n",
            "200/200 [==============================] - 0s 1ms/step - loss: 0.0026 - val_loss: 0.0025\n",
            "Epoch 8/10\n",
            "200/200 [==============================] - 0s 1ms/step - loss: 0.0018 - val_loss: 0.0017\n",
            "Epoch 9/10\n",
            "200/200 [==============================] - 0s 2ms/step - loss: 0.0012 - val_loss: 0.0011\n",
            "Epoch 10/10\n",
            "200/200 [==============================] - 0s 2ms/step - loss: 7.6199e-04 - val_loss: 7.3583e-04\n"
          ],
          "name": "stdout"
        }
      ]
    },
    {
      "cell_type": "code",
      "metadata": {
        "id": "s9G6ZWrGegQG",
        "colab_type": "code",
        "colab": {
          "base_uri": "https://localhost:8080/",
          "height": 295
        },
        "outputId": "b24b6123-0a45-4bab-f634-6405c4b6c534"
      },
      "source": [
        "plt.plot(history.history['loss'])\n",
        "plt.plot(history.history['val_loss'])\n",
        "plt.title('Model loss')\n",
        "plt.ylabel('Loss')\n",
        "plt.xlabel('Epoch')\n",
        "plt.legend(['Train', 'Test'], loc='upper left')\n",
        "plt.show()"
      ],
      "execution_count": 34,
      "outputs": [
        {
          "output_type": "display_data",
          "data": {
            "image/png": "[encoded data removed]",
            "text/plain": [
              "<Figure size 432x288 with 1 Axes>"
            ]
          },
          "metadata": {
            "tags": [],
            "needs_background": "light"
          }
        }
      ]
    },
    {
      "cell_type": "code",
      "metadata": {
        "id": "r5W0e5qlek9t",
        "colab_type": "code",
        "colab": {}
      },
      "source": [
        "y_predictions = model.predict(x_test)"
      ],
      "execution_count": 14,
      "outputs": []
    },
    {
      "cell_type": "code",
      "metadata": {
        "id": "BIN7Qxtoems1",
        "colab_type": "code",
        "colab": {
          "base_uri": "https://localhost:8080/",
          "height": 279
        },
        "outputId": "6d05e78b-0d01-4596-9a98-fd82199fd6c7"
      },
      "source": [
        "plt.scatter(x_test, y_predictions, label='Predictions', color='blue')\n",
        "plt.plot(x_test, y_test, label='Test', color='red')\n",
        "plt.ylabel('y')\n",
        "plt.xlabel('x')\n",
        "plt.legend(loc='best')\n",
        "plt.show()"
      ],
      "execution_count": 15,
      "outputs": [
        {
          "output_type": "display_data",
          "data": {
            "image/png": "[encoded data removed]",
            "text/plain": [
              "<Figure size 432x288 with 1 Axes>"
            ]
          },
          "metadata": {
            "tags": [],
            "needs_background": "light"
          }
        }
      ]
    },
    {
      "cell_type": "code",
      "metadata": {
        "id": "SICqRp0be7Sz",
        "colab_type": "code",
        "colab": {
          "base_uri": "https://localhost:8080/",
          "height": 34
        },
        "outputId": "1ee3d1f4-f2a4-4e11-ae8d-34af0b2f22ac"
      },
      "source": [
        "model_json = model.to_json()\n",
        "with open(\"model.json\", \"w\") as json_file:\n",
        "    json_file.write(model_json)\n",
        "# serialize weights to HDF5\n",
        "model.save_weights(\"model.h5\")\n",
        "print(\"Saved model to disk\")"
      ],
      "execution_count": 16,
      "outputs": [
        {
          "output_type": "stream",
          "text": [
            "Saved model to disk\n"
          ],
          "name": "stdout"
        }
      ]
    },
    {
      "cell_type": "code",
      "metadata": {
        "id": "FAw5wBYkfHxK",
        "colab_type": "code",
        "colab": {}
      },
      "source": [
        "json_file = open('model.json', 'r')\n",
        "loaded_model_json = json_file.read()\n",
        "json_file.close()\n",
        "loaded_model = model_from_json(loaded_model_json)"
      ],
      "execution_count": 17,
      "outputs": []
    },
    {
      "cell_type": "code",
      "metadata": {
        "id": "NtN5kYLpfNZC",
        "colab_type": "code",
        "colab": {
          "base_uri": "https://localhost:8080/",
          "height": 34
        },
        "outputId": "0280835a-2fa9-4a5a-d414-af96b477e407"
      },
      "source": [
        "loaded_model.load_weights(\"model.h5\")\n",
        "print(\"Loaded model from disk\")"
      ],
      "execution_count": 19,
      "outputs": [
        {
          "output_type": "stream",
          "text": [
            "Loaded model from disk\n"
          ],
          "name": "stdout"
        }
      ]
    },
    {
      "cell_type": "code",
      "metadata": {
        "id": "9J0i4VrHfgtW",
        "colab_type": "code",
        "colab": {}
      },
      "source": [
        "loaded_model.compile(loss= 'mse' , optimizer= 'Adam')"
      ],
      "execution_count": 20,
      "outputs": []
    },
    {
      "cell_type": "code",
      "metadata": {
        "id": "wftcX9tyf4Wr",
        "colab_type": "code",
        "colab": {}
      },
      "source": [
        "y_predictions = loaded_model.predict(x_test, batch_size= 1)"
      ],
      "execution_count": 23,
      "outputs": []
    },
    {
      "cell_type": "code",
      "metadata": {
        "id": "ioKgnmcBf_ZI",
        "colab_type": "code",
        "colab": {
          "base_uri": "https://localhost:8080/",
          "height": 279
        },
        "outputId": "9b75599d-a5f9-47fd-dce0-5ca5ad850cae"
      },
      "source": [
        "plt.scatter(x_test, y_predictions, label='Predictions', color='blue')\n",
        "plt.plot(x_test, y_test, label='Test', color='red')\n",
        "plt.ylabel('y')\n",
        "plt.xlabel('x')\n",
        "plt.legend(loc='best')\n",
        "plt.show()"
      ],
      "execution_count": 24,
      "outputs": [
        {
          "output_type": "display_data",
          "data": {
            "image/png": "[encoded data removed]",
            "text/plain": [
              "<Figure size 432x288 with 1 Axes>"
            ]
          },
          "metadata": {
            "tags": [],
            "needs_background": "light"
          }
        }
      ]
    }
  ]
}